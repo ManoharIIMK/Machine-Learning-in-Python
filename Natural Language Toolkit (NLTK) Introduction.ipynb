{
 "cells": [
  {
   "cell_type": "code",
   "execution_count": 1,
   "metadata": {},
   "outputs": [],
   "source": [
    "#The Natural Language Toolkit (NLTK) defines a basic infrastructure that can be used\n",
    "#to build NLP programs in Python. It provides:\n",
    "#• Basic classes for representing data relevant to natural language processing.\n",
    "#• Standard interfaces for performing tasks, such as tokenization, tagging, and parsing.\n",
    "#• Standard implementations for each task, which can be combined to solve complex\n",
    "#problems.\n",
    "#This tutorial introduces NLTK, with an emphasis on tokens and tokenization.\n"
   ]
  },
  {
   "cell_type": "code",
   "execution_count": 17,
   "metadata": {},
   "outputs": [],
   "source": [
    "# from nltk.token import * - avoid this to import other modues and cause conflicts.\n",
    "\n",
    "from nltk.tokenize import word_tokenize  # this is also can be done"
   ]
  },
  {
   "cell_type": "code",
   "execution_count": 19,
   "metadata": {},
   "outputs": [
    {
     "data": {
      "text/plain": [
       "['Good',\n",
       " 'muffins',\n",
       " 'cost',\n",
       " '$',\n",
       " '3.88',\n",
       " 'in',\n",
       " 'New',\n",
       " 'York',\n",
       " '.',\n",
       " 'Please',\n",
       " 'buy',\n",
       " 'me',\n",
       " 'two',\n",
       " 'of',\n",
       " 'them',\n",
       " '.',\n",
       " 'Thanks',\n",
       " '.']"
      ]
     },
     "execution_count": 19,
     "metadata": {},
     "output_type": "execute_result"
    }
   ],
   "source": [
    "s = '''Good muffins cost $3.88\\nin New York.  Please buy me\n",
    "       two of them.\\n\\nThanks.'''\n",
    "word_tokenize(s)"
   ]
  },
  {
   "cell_type": "code",
   "execution_count": 20,
   "metadata": {},
   "outputs": [
    {
     "data": {
      "text/plain": [
       "['Good',\n",
       " 'muffins',\n",
       " 'cost',\n",
       " '$',\n",
       " '3',\n",
       " '.',\n",
       " '88',\n",
       " 'in',\n",
       " 'New',\n",
       " 'York',\n",
       " '.',\n",
       " 'Please',\n",
       " 'buy',\n",
       " 'me',\n",
       " 'two',\n",
       " 'of',\n",
       " 'them',\n",
       " '.',\n",
       " 'Thanks',\n",
       " '.']"
      ]
     },
     "execution_count": 20,
     "metadata": {},
     "output_type": "execute_result"
    }
   ],
   "source": [
    "# This particular tokenizer requires the Punkt sentence tokenization\n",
    "#models to be installed. NLTK also provides a simpler,\n",
    "#regular-expression based tokenizer, which splits text on whitespace\n",
    "#and punctuation:\n",
    "\n",
    "from nltk.tokenize import wordpunct_tokenize\n",
    "wordpunct_tokenize(s)"
   ]
  },
  {
   "cell_type": "code",
   "execution_count": 21,
   "metadata": {},
   "outputs": [
    {
     "data": {
      "text/plain": [
       "['Good muffins cost $3.88\\nin New York.',\n",
       " 'Please buy me\\n       two of them.',\n",
       " 'Thanks.']"
      ]
     },
     "execution_count": 21,
     "metadata": {},
     "output_type": "execute_result"
    }
   ],
   "source": [
    "# We can also operate at the level of sentences, using the sentence\n",
    "# tokenizer directly as follows:\n",
    "from nltk.tokenize import sent_tokenize, word_tokenize\n",
    "\n",
    "sent_tokenize(s)"
   ]
  },
  {
   "cell_type": "code",
   "execution_count": 22,
   "metadata": {},
   "outputs": [
    {
     "data": {
      "text/plain": [
       "[['Good', 'muffins', 'cost', '$', '3.88', 'in', 'New', 'York', '.'],\n",
       " ['Please', 'buy', 'me', 'two', 'of', 'them', '.'],\n",
       " ['Thanks', '.']]"
      ]
     },
     "execution_count": 22,
     "metadata": {},
     "output_type": "execute_result"
    }
   ],
   "source": [
    "[word_tokenize(t) for t in sent_tokenize(s)]"
   ]
  },
  {
   "cell_type": "code",
   "execution_count": 29,
   "metadata": {},
   "outputs": [
    {
     "data": {
      "text/plain": [
       "[(0, 4),\n",
       " (5, 12),\n",
       " (13, 17),\n",
       " (18, 23),\n",
       " (24, 26),\n",
       " (27, 30),\n",
       " (31, 36),\n",
       " (38, 44),\n",
       " (45, 48),\n",
       " (49, 51),\n",
       " (59, 62),\n",
       " (63, 65),\n",
       " (66, 71),\n",
       " (73, 80)]"
      ]
     },
     "execution_count": 29,
     "metadata": {},
     "output_type": "execute_result"
    }
   ],
   "source": [
    "# NLTK tokenizers can produce token-spans, represented as tuples of integers\n",
    "#having the same semantics as string slices, to support efficient comparison\n",
    "# of tokenizers.  (These methods are implemented as generators.)\n",
    "\n",
    "from nltk.tokenize import WhitespaceTokenizer\n",
    "\n",
    "list(WhitespaceTokenizer().span_tokenize(s))"
   ]
  },
  {
   "cell_type": "code",
   "execution_count": 27,
   "metadata": {},
   "outputs": [
    {
     "name": "stdout",
     "output_type": "stream",
     "text": [
      "['God', 'is', 'Great', '!', 'I', 'won', 'a', 'lottery', '.']\n"
     ]
    }
   ],
   "source": [
    "from nltk.tokenize import word_tokenize\n",
    "text = \"God is Great! I won a lottery.\"\n",
    "print(word_tokenize(text))"
   ]
  },
  {
   "cell_type": "code",
   "execution_count": 30,
   "metadata": {},
   "outputs": [
    {
     "name": "stdout",
     "output_type": "stream",
     "text": [
      "['God is Great!', 'I won a lottery.']\n"
     ]
    }
   ],
   "source": [
    "#  Tokenization of Sentences\n",
    "\n",
    "from nltk.tokenize import sent_tokenize\n",
    "text = \"God is Great! I won a lottery.\"\n",
    "print(sent_tokenize(text))\n"
   ]
  },
  {
   "cell_type": "code",
   "execution_count": 34,
   "metadata": {},
   "outputs": [
    {
     "name": "stdout",
     "output_type": "stream",
     "text": [
      "After Split: ['learn', 'php', 'from', 'IIM', 'and', 'make', 'study', 'easy']\n"
     ]
    }
   ],
   "source": [
    "# POS (Part-Of-Speech) Tagging & Chunking with NLTK. POS is responsible for reading the text in a language and assigning\n",
    "# some specific token (Parts of Speech) to each word.\n",
    "\n",
    "# Tokenize text (word_tokenize)\n",
    "# apply pos_tag to above step that is nltk.pos_tag(tokenize_text)\n",
    "\n",
    "# [('Everything', NN),('to', TO), ('permit', VB), ('us', PRP)] - VB=Verb, PRP=Preposition, NN=Noun (singular)\n",
    "\n",
    "from nltk import pos_tag\n",
    "from nltk import RegexpParser\n",
    "text =\"learn php from IIM and make study easy\".split()\n",
    "print(\"After Split:\",text)\n"
   ]
  },
  {
   "cell_type": "code",
   "execution_count": null,
   "metadata": {},
   "outputs": [],
   "source": []
  }
 ],
 "metadata": {
  "kernelspec": {
   "display_name": "Python 3",
   "language": "python",
   "name": "python3"
  },
  "language_info": {
   "codemirror_mode": {
    "name": "ipython",
    "version": 3
   },
   "file_extension": ".py",
   "mimetype": "text/x-python",
   "name": "python",
   "nbconvert_exporter": "python",
   "pygments_lexer": "ipython3",
   "version": "3.7.3"
  }
 },
 "nbformat": 4,
 "nbformat_minor": 2
}
