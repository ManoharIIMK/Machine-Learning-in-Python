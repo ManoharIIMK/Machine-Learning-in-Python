{
 "cells": [
  {
   "cell_type": "code",
   "execution_count": null,
   "metadata": {},
   "outputs": [],
   "source": [
    "'''\n",
    "\n",
    "A nearest neighbor learning algorithm example using TensorFlow library.\n",
    "This example is using the classification of Bearings\n",
    "(http://yann.lecun.com/exdb/mnist/)\n",
    "Author: Manohar\n",
    "Project:classification of Bearings\n",
    "\n",
    "'''"
   ]
  },
  {
   "cell_type": "code",
   "execution_count": 2,
   "metadata": {},
   "outputs": [],
   "source": [
    "from __future__ import print_function\n",
    "\n",
    "import os\n",
    "import numpy as np\n",
    "import tensorflow as tf"
   ]
  },
  {
   "cell_type": "code",
   "execution_count": 4,
   "metadata": {},
   "outputs": [
    {
     "data": {
      "text/plain": [
       "'E:\\\\IIM\\\\TensorFlow\\\\warranty\\\\Bearings'"
      ]
     },
     "execution_count": 4,
     "metadata": {},
     "output_type": "execute_result"
    }
   ],
   "source": [
    "cwd = os.getcwd()\n",
    "cwd\n",
    "os.chdir(\"E:/IIM/TensorFlow/warranty/Bearings/\")\n",
    "cwd"
   ]
  },
  {
   "cell_type": "code",
   "execution_count": 5,
   "metadata": {},
   "outputs": [
    {
     "name": "stderr",
     "output_type": "stream",
     "text": [
      "WARNING: Logging before flag parsing goes to stderr.\n",
      "W0728 23:11:28.168595 19688 deprecation.py:323] From <ipython-input-5-9406337c35c1>:2: read_data_sets (from tensorflow.contrib.learn.python.learn.datasets.mnist) is deprecated and will be removed in a future version.\n",
      "Instructions for updating:\n",
      "Please use alternatives such as official/mnist/dataset.py from tensorflow/models.\n",
      "W0728 23:11:28.176210 19688 deprecation.py:323] From C:\\Users\\Eshwar\\Anaconda3\\lib\\site-packages\\tensorflow\\contrib\\learn\\python\\learn\\datasets\\mnist.py:260: maybe_download (from tensorflow.contrib.learn.python.learn.datasets.base) is deprecated and will be removed in a future version.\n",
      "Instructions for updating:\n",
      "Please write your own downloading logic.\n",
      "W0728 23:11:28.176210 19688 deprecation.py:323] From C:\\Users\\Eshwar\\Anaconda3\\lib\\site-packages\\tensorflow\\contrib\\learn\\python\\learn\\datasets\\base.py:252: _internal_retry.<locals>.wrap.<locals>.wrapped_fn (from tensorflow.contrib.learn.python.learn.datasets.base) is deprecated and will be removed in a future version.\n",
      "Instructions for updating:\n",
      "Please use urllib or similar directly.\n",
      "W0728 23:11:51.462987 19688 deprecation.py:323] From C:\\Users\\Eshwar\\Anaconda3\\lib\\site-packages\\tensorflow\\contrib\\learn\\python\\learn\\datasets\\mnist.py:262: extract_images (from tensorflow.contrib.learn.python.learn.datasets.mnist) is deprecated and will be removed in a future version.\n",
      "Instructions for updating:\n",
      "Please use tf.data to implement this functionality.\n"
     ]
    },
    {
     "name": "stdout",
     "output_type": "stream",
     "text": [
      "Successfully downloaded train-images-idx3-ubyte.gz 9912422 bytes.\n",
      "Extracting E:/IIM/TensorFlow/warranty/Bearings/train-images-idx3-ubyte.gz\n"
     ]
    },
    {
     "name": "stderr",
     "output_type": "stream",
     "text": [
      "W0728 23:11:53.375585 19688 deprecation.py:323] From C:\\Users\\Eshwar\\Anaconda3\\lib\\site-packages\\tensorflow\\contrib\\learn\\python\\learn\\datasets\\mnist.py:267: extract_labels (from tensorflow.contrib.learn.python.learn.datasets.mnist) is deprecated and will be removed in a future version.\n",
      "Instructions for updating:\n",
      "Please use tf.data to implement this functionality.\n",
      "W0728 23:11:53.379609 19688 deprecation.py:323] From C:\\Users\\Eshwar\\Anaconda3\\lib\\site-packages\\tensorflow\\contrib\\learn\\python\\learn\\datasets\\mnist.py:110: dense_to_one_hot (from tensorflow.contrib.learn.python.learn.datasets.mnist) is deprecated and will be removed in a future version.\n",
      "Instructions for updating:\n",
      "Please use tf.one_hot on tensors.\n"
     ]
    },
    {
     "name": "stdout",
     "output_type": "stream",
     "text": [
      "Successfully downloaded train-labels-idx1-ubyte.gz 28881 bytes.\n",
      "Extracting E:/IIM/TensorFlow/warranty/Bearings/train-labels-idx1-ubyte.gz\n",
      "Successfully downloaded t10k-images-idx3-ubyte.gz 1648877 bytes.\n",
      "Extracting E:/IIM/TensorFlow/warranty/Bearings/t10k-images-idx3-ubyte.gz\n"
     ]
    },
    {
     "name": "stderr",
     "output_type": "stream",
     "text": [
      "W0728 23:12:01.650035 19688 deprecation.py:323] From C:\\Users\\Eshwar\\Anaconda3\\lib\\site-packages\\tensorflow\\contrib\\learn\\python\\learn\\datasets\\mnist.py:290: DataSet.__init__ (from tensorflow.contrib.learn.python.learn.datasets.mnist) is deprecated and will be removed in a future version.\n",
      "Instructions for updating:\n",
      "Please use alternatives such as official/mnist/dataset.py from tensorflow/models.\n"
     ]
    },
    {
     "name": "stdout",
     "output_type": "stream",
     "text": [
      "Successfully downloaded t10k-labels-idx1-ubyte.gz 4542 bytes.\n",
      "Extracting E:/IIM/TensorFlow/warranty/Bearings/t10k-labels-idx1-ubyte.gz\n"
     ]
    }
   ],
   "source": [
    "from tensorflow.examples.tutorials.mnist import input_data\n",
    "mnist = input_data.read_data_sets(\"E:/IIM/TensorFlow/warranty/Bearings/\", one_hot=True)"
   ]
  },
  {
   "cell_type": "code",
   "execution_count": 6,
   "metadata": {},
   "outputs": [],
   "source": [
    "# In this example, we limit mnist data\n",
    "Xtr, Ytr = mnist.train.next_batch(400) #400 for training (nn candidates)\n",
    "Xte, Yte = mnist.test.next_batch(100) #100 for testing"
   ]
  },
  {
   "cell_type": "code",
   "execution_count": 10,
   "metadata": {},
   "outputs": [],
   "source": [
    "# tf Graph Input\n",
    "xtr = tf.placeholder(\"float\", [None, 784])\n",
    "xte = tf.placeholder(\"float\", [784])"
   ]
  },
  {
   "cell_type": "code",
   "execution_count": 12,
   "metadata": {},
   "outputs": [],
   "source": [
    "# Nearest Neighbor calculation using L1 Distance\n",
    "# Calculate L1 Distance\n",
    "distance = tf.reduce_sum(tf.abs(tf.add(xtr, tf.negative(xte))), reduction_indices=1)\n",
    "# Prediction: Get min distance index (Nearest neighbor)\n",
    "pred = tf.arg_min(distance, 0)"
   ]
  },
  {
   "cell_type": "code",
   "execution_count": 13,
   "metadata": {},
   "outputs": [],
   "source": [
    "accuracy = 0.\n",
    "\n",
    "# Initialize the variables (i.e. assign their default value)\n",
    "init = tf.global_variables_initializer()"
   ]
  },
  {
   "cell_type": "code",
   "execution_count": 14,
   "metadata": {},
   "outputs": [
    {
     "name": "stdout",
     "output_type": "stream",
     "text": [
      "Test 0 Prediction: 1 True Class: 1\n",
      "Test 1 Prediction: 3 True Class: 3\n",
      "Test 2 Prediction: 2 True Class: 2\n",
      "Test 3 Prediction: 0 True Class: 5\n",
      "Test 4 Prediction: 8 True Class: 8\n",
      "Test 5 Prediction: 6 True Class: 8\n",
      "Test 6 Prediction: 0 True Class: 0\n",
      "Test 7 Prediction: 6 True Class: 6\n",
      "Test 8 Prediction: 1 True Class: 1\n",
      "Test 9 Prediction: 6 True Class: 6\n",
      "Test 10 Prediction: 1 True Class: 1\n",
      "Test 11 Prediction: 5 True Class: 5\n",
      "Test 12 Prediction: 7 True Class: 2\n",
      "Test 13 Prediction: 9 True Class: 9\n",
      "Test 14 Prediction: 4 True Class: 4\n",
      "Test 15 Prediction: 5 True Class: 5\n",
      "Test 16 Prediction: 0 True Class: 0\n",
      "Test 17 Prediction: 9 True Class: 9\n",
      "Test 18 Prediction: 3 True Class: 3\n",
      "Test 19 Prediction: 0 True Class: 0\n",
      "Test 20 Prediction: 6 True Class: 6\n",
      "Test 21 Prediction: 9 True Class: 9\n",
      "Test 22 Prediction: 1 True Class: 1\n",
      "Test 23 Prediction: 9 True Class: 9\n",
      "Test 24 Prediction: 2 True Class: 2\n",
      "Test 25 Prediction: 7 True Class: 7\n",
      "Test 26 Prediction: 4 True Class: 4\n",
      "Test 27 Prediction: 7 True Class: 7\n",
      "Test 28 Prediction: 9 True Class: 9\n",
      "Test 29 Prediction: 7 True Class: 7\n",
      "Test 30 Prediction: 1 True Class: 1\n",
      "Test 31 Prediction: 2 True Class: 2\n",
      "Test 32 Prediction: 0 True Class: 0\n",
      "Test 33 Prediction: 8 True Class: 8\n",
      "Test 34 Prediction: 6 True Class: 6\n",
      "Test 35 Prediction: 8 True Class: 8\n",
      "Test 36 Prediction: 3 True Class: 3\n",
      "Test 37 Prediction: 3 True Class: 3\n",
      "Test 38 Prediction: 9 True Class: 9\n",
      "Test 39 Prediction: 7 True Class: 7\n",
      "Test 40 Prediction: 1 True Class: 1\n",
      "Test 41 Prediction: 6 True Class: 6\n",
      "Test 42 Prediction: 5 True Class: 5\n",
      "Test 43 Prediction: 7 True Class: 7\n",
      "Test 44 Prediction: 8 True Class: 8\n",
      "Test 45 Prediction: 0 True Class: 0\n",
      "Test 46 Prediction: 3 True Class: 2\n",
      "Test 47 Prediction: 5 True Class: 5\n",
      "Test 48 Prediction: 3 True Class: 3\n",
      "Test 49 Prediction: 1 True Class: 2\n",
      "Test 50 Prediction: 8 True Class: 8\n",
      "Test 51 Prediction: 5 True Class: 5\n",
      "Test 52 Prediction: 8 True Class: 3\n",
      "Test 53 Prediction: 9 True Class: 9\n",
      "Test 54 Prediction: 7 True Class: 7\n",
      "Test 55 Prediction: 8 True Class: 8\n",
      "Test 56 Prediction: 1 True Class: 1\n",
      "Test 57 Prediction: 1 True Class: 1\n",
      "Test 58 Prediction: 6 True Class: 6\n",
      "Test 59 Prediction: 3 True Class: 3\n",
      "Test 60 Prediction: 7 True Class: 7\n",
      "Test 61 Prediction: 7 True Class: 7\n",
      "Test 62 Prediction: 9 True Class: 9\n",
      "Test 63 Prediction: 5 True Class: 8\n",
      "Test 64 Prediction: 7 True Class: 7\n",
      "Test 65 Prediction: 1 True Class: 1\n",
      "Test 66 Prediction: 7 True Class: 7\n",
      "Test 67 Prediction: 6 True Class: 6\n",
      "Test 68 Prediction: 9 True Class: 9\n",
      "Test 69 Prediction: 5 True Class: 5\n",
      "Test 70 Prediction: 4 True Class: 2\n",
      "Test 71 Prediction: 0 True Class: 0\n",
      "Test 72 Prediction: 4 True Class: 4\n",
      "Test 73 Prediction: 8 True Class: 8\n",
      "Test 74 Prediction: 8 True Class: 8\n",
      "Test 75 Prediction: 8 True Class: 8\n",
      "Test 76 Prediction: 1 True Class: 6\n",
      "Test 77 Prediction: 1 True Class: 1\n",
      "Test 78 Prediction: 1 True Class: 1\n",
      "Test 79 Prediction: 9 True Class: 9\n",
      "Test 80 Prediction: 5 True Class: 3\n",
      "Test 81 Prediction: 8 True Class: 8\n",
      "Test 82 Prediction: 3 True Class: 5\n",
      "Test 83 Prediction: 7 True Class: 7\n",
      "Test 84 Prediction: 3 True Class: 3\n",
      "Test 85 Prediction: 5 True Class: 5\n",
      "Test 86 Prediction: 7 True Class: 9\n",
      "Test 87 Prediction: 0 True Class: 0\n",
      "Test 88 Prediction: 3 True Class: 3\n",
      "Test 89 Prediction: 6 True Class: 6\n",
      "Test 90 Prediction: 3 True Class: 3\n",
      "Test 91 Prediction: 6 True Class: 6\n",
      "Test 92 Prediction: 2 True Class: 2\n",
      "Test 93 Prediction: 0 True Class: 2\n",
      "Test 94 Prediction: 8 True Class: 8\n",
      "Test 95 Prediction: 8 True Class: 8\n",
      "Test 96 Prediction: 0 True Class: 0\n",
      "Test 97 Prediction: 3 True Class: 3\n",
      "Test 98 Prediction: 6 True Class: 6\n",
      "Test 99 Prediction: 2 True Class: 2\n",
      "Done!\n",
      "Accuracy: 0.8700000000000006\n"
     ]
    }
   ],
   "source": [
    "# Start training\n",
    "with tf.Session() as sess:\n",
    "\n",
    "    # Run the initializer\n",
    "    sess.run(init)\n",
    "\n",
    "    # loop over test data\n",
    "    for i in range(len(Xte)):\n",
    "        # Get nearest neighbor\n",
    "        nn_index = sess.run(pred, feed_dict={xtr: Xtr, xte: Xte[i, :]})\n",
    "        # Get nearest neighbor class label and compare it to its true label\n",
    "        print(\"Test\", i, \"Prediction:\", np.argmax(Ytr[nn_index]), \\\n",
    "            \"True Class:\", np.argmax(Yte[i]))\n",
    "        # Calculate accuracy\n",
    "        if np.argmax(Ytr[nn_index]) == np.argmax(Yte[i]):\n",
    "            accuracy += 1./len(Xte)\n",
    "    print(\"Done!\")\n",
    "    print(\"Accuracy:\", accuracy)"
   ]
  },
  {
   "cell_type": "code",
   "execution_count": null,
   "metadata": {},
   "outputs": [],
   "source": []
  }
 ],
 "metadata": {
  "kernelspec": {
   "display_name": "Python 3",
   "language": "python",
   "name": "python3"
  },
  "language_info": {
   "codemirror_mode": {
    "name": "ipython",
    "version": 3
   },
   "file_extension": ".py",
   "mimetype": "text/x-python",
   "name": "python",
   "nbconvert_exporter": "python",
   "pygments_lexer": "ipython3",
   "version": "3.7.3"
  }
 },
 "nbformat": 4,
 "nbformat_minor": 2
}
