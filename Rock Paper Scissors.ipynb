{
 "cells": [
  {
   "cell_type": "code",
   "execution_count": 3,
   "metadata": {},
   "outputs": [
    {
     "name": "stdout",
     "output_type": "stream",
     "text": [
      "What's your name?E\n",
      "And your name?M\n",
      "E, do yo want to choose rock, paper or scissors?rock\n",
      "M, do you want to choose rock, paper or scissors?Paper\n",
      "Paper wins!\n"
     ]
    }
   ],
   "source": [
    "import sys\n",
    "\n",
    "user1 = input(\"What's your name?\")\n",
    "user2 = input(\"And your name?\")\n",
    "user1_answer = input(\"%s, do yo want to choose rock, paper or scissors?\" % user1)\n",
    "user2_answer = input(\"%s, do you want to choose rock, paper or scissors?\" % user2)\n",
    "\n",
    "def compare(u1, u2):\n",
    "    if u1 == u2:\n",
    "        return(\"It's a tie!\")\n",
    "    elif u1 == 'rock' | 'Rock':\n",
    "        if u2 == 'scissors':\n",
    "            return(\"Rock wins!\")\n",
    "        else:\n",
    "            return(\"Paper wins!\")\n",
    "    elif u1 == 'scissors' | 'Scissors':\n",
    "        if u2 == 'paper' | 'Paper':\n",
    "            return(\"Scissors win!\")\n",
    "        else:\n",
    "            return(\"Rock wins!\")\n",
    "    elif u1 == 'paper' | 'Paper':\n",
    "        if u2 == 'rock' | 'R':\n",
    "            return(\"Paper wins!\")\n",
    "        else:\n",
    "            return(\"Scissors win!\")\n",
    "    else:\n",
    "        return(\"Invalid input! You have not entered rock, paper or scissors, try again.\")\n",
    "        sys.exit()\n",
    "\n",
    "print(compare(user1_answer, user2_answer))"
   ]
  },
  {
   "cell_type": "code",
   "execution_count": null,
   "metadata": {},
   "outputs": [],
   "source": []
  }
 ],
 "metadata": {
  "kernelspec": {
   "display_name": "Python 3",
   "language": "python",
   "name": "python3"
  },
  "language_info": {
   "codemirror_mode": {
    "name": "ipython",
    "version": 3
   },
   "file_extension": ".py",
   "mimetype": "text/x-python",
   "name": "python",
   "nbconvert_exporter": "python",
   "pygments_lexer": "ipython3",
   "version": "3.7.3"
  }
 },
 "nbformat": 4,
 "nbformat_minor": 2
}
