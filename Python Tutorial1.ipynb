{
 "cells": [
  {
   "cell_type": "code",
   "execution_count": 1,
   "metadata": {},
   "outputs": [
    {
     "data": {
      "text/plain": [
       "5"
      ]
     },
     "execution_count": 1,
     "metadata": {},
     "output_type": "execute_result"
    }
   ],
   "source": [
    "2 + 3"
   ]
  },
  {
   "cell_type": "code",
   "execution_count": 83,
   "metadata": {},
   "outputs": [
    {
     "data": {
      "text/plain": [
       "1"
      ]
     },
     "execution_count": 83,
     "metadata": {},
     "output_type": "execute_result"
    }
   ],
   "source": [
    "5 - 4"
   ]
  },
  {
   "cell_type": "code",
   "execution_count": 84,
   "metadata": {},
   "outputs": [
    {
     "data": {
      "text/plain": [
       "9"
      ]
     },
     "execution_count": 84,
     "metadata": {},
     "output_type": "execute_result"
    }
   ],
   "source": [
    "3 ** 2"
   ]
  },
  {
   "cell_type": "code",
   "execution_count": 87,
   "metadata": {},
   "outputs": [
    {
     "name": "stdout",
     "output_type": "stream",
     "text": [
      " a - b is  3\n"
     ]
    }
   ],
   "source": [
    "a = 8\n",
    "b = 5\n",
    "c = a - b\n",
    "print(' a - b is ', c)"
   ]
  },
  {
   "cell_type": "code",
   "execution_count": null,
   "metadata": {},
   "outputs": [],
   "source": [
    "print('hello world')\n",
    "print('My name is Eshwar'+ b"
   ]
  },
  {
   "cell_type": "code",
   "execution_count": null,
   "metadata": {},
   "outputs": [],
   "source": [
    "a = 20"
   ]
  },
  {
   "cell_type": "code",
   "execution_count": null,
   "metadata": {},
   "outputs": [],
   "source": [
    "b = 30"
   ]
  },
  {
   "cell_type": "code",
   "execution_count": null,
   "metadata": {},
   "outputs": [],
   "source": [
    "c = a  + b"
   ]
  },
  {
   "cell_type": "code",
   "execution_count": null,
   "metadata": {},
   "outputs": [],
   "source": [
    "print('The value of a + b is ', c)"
   ]
  },
  {
   "cell_type": "code",
   "execution_count": null,
   "metadata": {},
   "outputs": [],
   "source": [
    "def donothing(x): \n",
    "    return x\n",
    "\n",
    "donothing(5)"
   ]
  },
  {
   "cell_type": "code",
   "execution_count": null,
   "metadata": {},
   "outputs": [],
   "source": [
    "donothing(10)"
   ]
  },
  {
   "cell_type": "code",
   "execution_count": null,
   "metadata": {},
   "outputs": [],
   "source": [
    "help(len)  #  Python has a built-in help() function"
   ]
  },
  {
   "cell_type": "code",
   "execution_count": null,
   "metadata": {},
   "outputs": [],
   "source": [
    "len?"
   ]
  },
  {
   "cell_type": "code",
   "execution_count": null,
   "metadata": {},
   "outputs": [],
   "source": [
    "L = [1, 2, 3]\n",
    "L.insert?\n",
    "L?"
   ]
  },
  {
   "cell_type": "code",
   "execution_count": null,
   "metadata": {},
   "outputs": [],
   "source": [
    "def square(a):       # Python’s triple-quote notation for multiline strings\n",
    "            \"\"\"Return the square of a.\"\"\"\n",
    "            return a ** 2\n",
    "square?\n",
    "square??"
   ]
  },
  {
   "cell_type": "code",
   "execution_count": null,
   "metadata": {},
   "outputs": [],
   "source": [
    "square?    # "
   ]
  },
  {
   "cell_type": "code",
   "execution_count": null,
   "metadata": {},
   "outputs": [],
   "source": [
    "square??   # reading the source code of the object you’re curious about"
   ]
  },
  {
   "cell_type": "code",
   "execution_count": null,
   "metadata": {},
   "outputs": [],
   "source": [
    "L.c        # L.clear  L.copy   L.count - put cursor after 'c'and enter 'tab'"
   ]
  },
  {
   "cell_type": "code",
   "execution_count": null,
   "metadata": {},
   "outputs": [],
   "source": [
    "from itertools import co                 # tab after co"
   ]
  },
  {
   "cell_type": "code",
   "execution_count": null,
   "metadata": {},
   "outputs": [],
   "source": [
    "import                      # tab to get the list of import objects - Display all 399 possibilities? (y or n) "
   ]
  },
  {
   "cell_type": "code",
   "execution_count": 38,
   "metadata": {},
   "outputs": [],
   "source": [
    " *Warning?           #IPython provides a means of wildcard matching for names using the * character. "
   ]
  },
  {
   "cell_type": "code",
   "execution_count": 39,
   "metadata": {},
   "outputs": [],
   "source": [
    " str.*find*?    # a string method that contains the word find somewhere in its name"
   ]
  },
  {
   "cell_type": "markdown",
   "metadata": {},
   "source": [
    "Ctrl-a Move cursor to the beginning of the line \n",
    "Ctrl-e Move cursor to the end of the line \n",
    "Ctrl-b (or the left arrow key) Move cursor back one character \n",
    "Ctrl-f (or the right arrow key) Move cursor forward one character"
   ]
  },
  {
   "cell_type": "markdown",
   "metadata": {},
   "source": [
    "Text Entry Shortcuts:\n",
    "\n",
    "While everyone is familiar with using the Backspace key to delete the previous character, reaching for the key often requires some minor finger gymnastics, and it only deletes a single character at a time. In IPython there are several shortcuts for removing some portion of the text you’re typing. The most immediately useful of these are the commands to delete entire lines of text. You’ll know these have become second nature if you find yourself using a combination of Ctrl-b and Ctrl-d instead of reaching for the Backspace key to delete the previous character!\n",
    "                "
   ]
  },
  {
   "cell_type": "markdown",
   "metadata": {},
   "source": [
    "Keystroke Action \n",
    "Backspace key -Delete previous character in line \n",
    "Ctrl-d -Delete next character in line \n",
    "Ctrl-k -Cut text from cursor to end of line \n",
    "Ctrl-u- Cut text from beginning fo line to cursor \n",
    "Ctrl-y -Yank (i.e., paste) text that was previously cut \n",
    "Ctrl-t -Transpose (i.e., switch) previous two characters "
   ]
  },
  {
   "cell_type": "code",
   "execution_count": 48,
   "metadata": {},
   "outputs": [],
   "source": [
    " %timeit  \n",
    "L = [n ** 2 for n in range(1000)] "
   ]
  },
  {
   "cell_type": "code",
   "execution_count": 47,
   "metadata": {},
   "outputs": [
    {
     "name": "stdout",
     "output_type": "stream",
     "text": [
      "787 µs ± 7.19 µs per loop (mean ± std. dev. of 7 runs, 1000 loops each)\n"
     ]
    }
   ],
   "source": [
    "%%timeit  \n",
    "L = [n ** 2 for n in range(1000)]"
   ]
  },
  {
   "cell_type": "code",
   "execution_count": 52,
   "metadata": {},
   "outputs": [],
   "source": [
    "%timeit?\n",
    "L = [n ** 2 for n in range(1000)]"
   ]
  },
  {
   "cell_type": "code",
   "execution_count": 53,
   "metadata": {},
   "outputs": [],
   "source": [
    "%magic  # IPython's 'magic' functions"
   ]
  },
  {
   "cell_type": "code",
   "execution_count": 54,
   "metadata": {},
   "outputs": [
    {
     "data": {
      "application/json": {
       "cell": {
        "!": "OSMagics",
        "HTML": "Other",
        "SVG": "Other",
        "bash": "Other",
        "capture": "ExecutionMagics",
        "cmd": "Other",
        "debug": "ExecutionMagics",
        "file": "Other",
        "html": "DisplayMagics",
        "javascript": "DisplayMagics",
        "js": "DisplayMagics",
        "latex": "DisplayMagics",
        "markdown": "DisplayMagics",
        "perl": "Other",
        "prun": "ExecutionMagics",
        "pypy": "Other",
        "python": "Other",
        "python2": "Other",
        "python3": "Other",
        "ruby": "Other",
        "script": "ScriptMagics",
        "sh": "Other",
        "svg": "DisplayMagics",
        "sx": "OSMagics",
        "system": "OSMagics",
        "time": "ExecutionMagics",
        "timeit": "ExecutionMagics",
        "writefile": "OSMagics"
       },
       "line": {
        "alias": "OSMagics",
        "alias_magic": "BasicMagics",
        "autoawait": "AsyncMagics",
        "autocall": "AutoMagics",
        "automagic": "AutoMagics",
        "autosave": "KernelMagics",
        "bookmark": "OSMagics",
        "cd": "OSMagics",
        "clear": "KernelMagics",
        "cls": "KernelMagics",
        "colors": "BasicMagics",
        "conda": "PackagingMagics",
        "config": "ConfigMagics",
        "connect_info": "KernelMagics",
        "copy": "Other",
        "ddir": "Other",
        "debug": "ExecutionMagics",
        "dhist": "OSMagics",
        "dirs": "OSMagics",
        "doctest_mode": "BasicMagics",
        "echo": "Other",
        "ed": "Other",
        "edit": "KernelMagics",
        "env": "OSMagics",
        "gui": "BasicMagics",
        "hist": "Other",
        "history": "HistoryMagics",
        "killbgscripts": "ScriptMagics",
        "ldir": "Other",
        "less": "KernelMagics",
        "load": "CodeMagics",
        "load_ext": "ExtensionMagics",
        "loadpy": "CodeMagics",
        "logoff": "LoggingMagics",
        "logon": "LoggingMagics",
        "logstart": "LoggingMagics",
        "logstate": "LoggingMagics",
        "logstop": "LoggingMagics",
        "ls": "Other",
        "lsmagic": "BasicMagics",
        "macro": "ExecutionMagics",
        "magic": "BasicMagics",
        "matplotlib": "PylabMagics",
        "mkdir": "Other",
        "more": "KernelMagics",
        "notebook": "BasicMagics",
        "page": "BasicMagics",
        "pastebin": "CodeMagics",
        "pdb": "ExecutionMagics",
        "pdef": "NamespaceMagics",
        "pdoc": "NamespaceMagics",
        "pfile": "NamespaceMagics",
        "pinfo": "NamespaceMagics",
        "pinfo2": "NamespaceMagics",
        "pip": "PackagingMagics",
        "popd": "OSMagics",
        "pprint": "BasicMagics",
        "precision": "BasicMagics",
        "prun": "ExecutionMagics",
        "psearch": "NamespaceMagics",
        "psource": "NamespaceMagics",
        "pushd": "OSMagics",
        "pwd": "OSMagics",
        "pycat": "OSMagics",
        "pylab": "PylabMagics",
        "qtconsole": "KernelMagics",
        "quickref": "BasicMagics",
        "recall": "HistoryMagics",
        "rehashx": "OSMagics",
        "reload_ext": "ExtensionMagics",
        "ren": "Other",
        "rep": "Other",
        "rerun": "HistoryMagics",
        "reset": "NamespaceMagics",
        "reset_selective": "NamespaceMagics",
        "rmdir": "Other",
        "run": "ExecutionMagics",
        "save": "CodeMagics",
        "sc": "OSMagics",
        "set_env": "OSMagics",
        "store": "StoreMagics",
        "sx": "OSMagics",
        "system": "OSMagics",
        "tb": "ExecutionMagics",
        "time": "ExecutionMagics",
        "timeit": "ExecutionMagics",
        "unalias": "OSMagics",
        "unload_ext": "ExtensionMagics",
        "who": "NamespaceMagics",
        "who_ls": "NamespaceMagics",
        "whos": "NamespaceMagics",
        "xdel": "NamespaceMagics",
        "xmode": "BasicMagics"
       }
      },
      "text/plain": [
       "Available line magics:\n",
       "%alias  %alias_magic  %autoawait  %autocall  %automagic  %autosave  %bookmark  %cd  %clear  %cls  %colors  %conda  %config  %connect_info  %copy  %ddir  %debug  %dhist  %dirs  %doctest_mode  %echo  %ed  %edit  %env  %gui  %hist  %history  %killbgscripts  %ldir  %less  %load  %load_ext  %loadpy  %logoff  %logon  %logstart  %logstate  %logstop  %ls  %lsmagic  %macro  %magic  %matplotlib  %mkdir  %more  %notebook  %page  %pastebin  %pdb  %pdef  %pdoc  %pfile  %pinfo  %pinfo2  %pip  %popd  %pprint  %precision  %prun  %psearch  %psource  %pushd  %pwd  %pycat  %pylab  %qtconsole  %quickref  %recall  %rehashx  %reload_ext  %ren  %rep  %rerun  %reset  %reset_selective  %rmdir  %run  %save  %sc  %set_env  %store  %sx  %system  %tb  %time  %timeit  %unalias  %unload_ext  %who  %who_ls  %whos  %xdel  %xmode\n",
       "\n",
       "Available cell magics:\n",
       "%%!  %%HTML  %%SVG  %%bash  %%capture  %%cmd  %%debug  %%file  %%html  %%javascript  %%js  %%latex  %%markdown  %%perl  %%prun  %%pypy  %%python  %%python2  %%python3  %%ruby  %%script  %%sh  %%svg  %%sx  %%system  %%time  %%timeit  %%writefile\n",
       "\n",
       "Automagic is ON, % prefix IS NOT needed for line magics."
      ]
     },
     "execution_count": 54,
     "metadata": {},
     "output_type": "execute_result"
    }
   ],
   "source": [
    "%lsmagic"
   ]
  },
  {
   "cell_type": "code",
   "execution_count": 71,
   "metadata": {},
   "outputs": [
    {
     "data": {
      "text/plain": [
       "1.0"
      ]
     },
     "execution_count": 71,
     "metadata": {},
     "output_type": "execute_result"
    }
   ],
   "source": [
    "import math # We’ve imported the built-in math package, then computed the sine and the cosine of the number 2. \n",
    "math.sin(0)\n",
    "math.cos(0)"
   ]
  },
  {
   "cell_type": "code",
   "execution_count": 66,
   "metadata": {},
   "outputs": [
    {
     "data": {
      "text/plain": [
       "1.0"
      ]
     },
     "execution_count": 66,
     "metadata": {},
     "output_type": "execute_result"
    }
   ],
   "source": [
    "math.cos(0) "
   ]
  },
  {
   "cell_type": "code",
   "execution_count": null,
   "metadata": {},
   "outputs": [],
   "source": [
    "print(In) "
   ]
  },
  {
   "cell_type": "code",
   "execution_count": null,
   "metadata": {},
   "outputs": [],
   "source": [
    "Out "
   ]
  },
  {
   "cell_type": "code",
   "execution_count": 73,
   "metadata": {},
   "outputs": [
    {
     "name": "stdout",
     "output_type": "stream",
     "text": [
      "def donothing(x): \n",
      "    return x\n",
      "donothing(10)\n",
      "def donothing(x): \n",
      "    return x\n",
      "\n",
      "donothin(5)\n",
      "def donothing(x): \n",
      "    return x\n",
      "\n",
      "donothing(5)\n",
      "help(len)\n",
      "help(len)  #  Python has a built-in help() function\n",
      "len?\n",
      "len ?\n",
      "len?\n",
      "L = [1, 2, 3]\n",
      "L.insert?\n",
      "L = [1, 2, 3]\n",
      "L.insert?\n",
      " L?\n",
      "L = [1, 2, 3]\n",
      "L.insert?\n",
      " L?\n",
      "L = [1, 2, 3]\n",
      "L.insert?\n",
      "L?\n",
      " def square(a):  ....:     \n",
      "            \"\"\"Return the square of a.\"\"\"\n",
      " def square(a):       \n",
      "            \"\"\"Return the square of a.\"\"\"\n",
      " def square(a):       \n",
      "            \"\"\"Return the square of a.\"\"\"\n",
      " def square(a):       \n",
      "            \"\"\"Return the square of a.\"\"\"\n",
      "            return a ** 2\n",
      "square?\n",
      "square??\n",
      " L.<TAB>\n",
      "L = [1, 2, 3]\n",
      "L.<TAB>\n",
      "L = [1, 2, 3]\n",
      "L.<>\n",
      "L = [1, 2, 3]\n",
      "L.<all>\n",
      "square??   # reading the source code of the object you’re curious about\n",
      " def square(a):       # Python’s triple-quote notation for multiline strings\n",
      "            \"\"\"Return the square of a.\"\"\"\n",
      "            return a ** 2\n",
      "square?    #\n",
      "square??   # reading the source code of the object you’re curious about\n",
      " def square(a):       # Python’s triple-quote notation for multiline strings\n",
      "            \"\"\"Return the square of a.\"\"\"\n",
      "            return a ** 2\n",
      "        square?\n",
      "def square(a):       # Python’s triple-quote notation for multiline strings\n",
      "            \"\"\"Return the square of a.\"\"\"\n",
      "            return a ** 2\n",
      "square?\n",
      "square??   # reading the source code of the object you’re curious about\n",
      "def square(a):       # Python’s triple-quote notation for multiline strings\n",
      "            \"\"\"Return the square of a.\"\"\"\n",
      "            return a ** 2\n",
      "square?\n",
      "square??\n",
      "from itertools import co                 # tab after co\n",
      "import                      # tab to get the list of import objects\n",
      "import                      # tab to get the list of import objects - Display all 399 possibilities? (y or n)\n",
      " *Warning?\n",
      " str.*find*?\n",
      " %timeit?\n",
      " %timeit?  L = [n ** 2 for n in range(1000)]\n",
      " %timeit  L = [n ** 2 for n in range(1000)]\n",
      "%%timeit\n",
      "%%timeit  L = [n ** 2 for n in range(1000)]\n",
      "%%timeit  L = [n ** 2 for n in range(1000)]\n",
      "%%timeit  (L = [n ** 2 for n in range(1000)])\n",
      "%%timeit  \n",
      "L = [n ** 2 for n in range(1000)]\n",
      " %timeit  \n",
      "L = [n ** 2 for n in range(1000)]\n",
      " %timeit?\n",
      " %timeit? \n",
      "    L = [n ** 2 for n in range(1000)]\n",
      "%timeit? \n",
      "L = [n ** 2 for n in range(1000)]\n",
      "%timeit?\n",
      "L = [n ** 2 for n in range(1000)]\n",
      " %magic\n",
      "%lsmagic\n",
      "import math\n",
      "math.sin(2) \n",
      "math.cos(2)\n",
      "import math\n",
      "math.sin(2) \n",
      "math.cos(2)\n",
      "import math\n",
      "math.sin(2)\n",
      "math.cos(2)\n",
      "print(In)\n",
      "import math # We’ve imported the built-in math package, then computed the sine and the cosine of the number 2. \n",
      "math.sin(30)\n",
      "math.cos(30)\n",
      "import math # We’ve imported the built-in math package, then computed the sine and the cosine of the number 2. \n",
      "math.sin(45)\n",
      "import math # We’ve imported the built-in math package, then computed the sine and the cosine of the number 2. \n",
      "math.sin(90)\n",
      "import math # We’ve imported the built-in math package, then computed the sine and the cosine of the number 2. \n",
      "math.sin(90)\n",
      "math.cos(30)\n",
      "math.cos(0)\n",
      "import math # We’ve imported the built-in math package, then computed the sine and the cosine of the number 2. \n",
      "math.sin(0)\n",
      "import math # We’ve imported the built-in math package, then computed the sine and the cosine of the number 2. \n",
      "math.sin(0)\n",
      "math.cos(0)\n",
      "math.square(5)\n",
      "import math # We’ve imported the built-in math package, then computed the sine and the cosine of the number 2. \n",
      "math.sin(0)\n",
      "math.cos(0)\n",
      "math.square(5)\n",
      "import math # We’ve imported the built-in math package, then computed the sine and the cosine of the number 2. \n",
      "math.sin(0)\n",
      "math.cos(0)\n",
      "math.square(5)\n",
      "import math # We’ve imported the built-in math package, then computed the sine and the cosine of the number 2. \n",
      "math.sin(0)\n",
      "math.cos(0)\n",
      "Out\n",
      "%history\n"
     ]
    }
   ],
   "source": [
    "%history"
   ]
  },
  {
   "cell_type": "code",
   "execution_count": 78,
   "metadata": {},
   "outputs": [
    {
     "name": "stdout",
     "output_type": "stream",
     "text": [
      "help(len) \n"
     ]
    }
   ],
   "source": [
    "print(In[5]) "
   ]
  },
  {
   "cell_type": "code",
   "execution_count": 79,
   "metadata": {},
   "outputs": [
    {
     "name": "stdout",
     "output_type": "stream",
     "text": [
      "10\n"
     ]
    }
   ],
   "source": [
    "print(Out[2]) "
   ]
  },
  {
   "cell_type": "code",
   "execution_count": 81,
   "metadata": {},
   "outputs": [
    {
     "data": {
      "text/plain": [
       "200"
      ]
     },
     "execution_count": 81,
     "metadata": {},
     "output_type": "execute_result"
    }
   ],
   "source": [
    " Out[2] ** 2 + Out[2] ** 2"
   ]
  },
  {
   "cell_type": "code",
   "execution_count": 88,
   "metadata": {},
   "outputs": [
    {
     "name": "stdout",
     "output_type": "stream",
     "text": [
      "9\n"
     ]
    }
   ],
   "source": [
    " print(_)                     # simple shortcut for accessing previous output"
   ]
  },
  {
   "cell_type": "code",
   "execution_count": 89,
   "metadata": {},
   "outputs": [
    {
     "name": "stdout",
     "output_type": "stream",
     "text": [
      "5\n"
     ]
    }
   ],
   "source": [
    "print(___)                      #  double underscore to access the second-to-last output"
   ]
  },
  {
   "cell_type": "code",
   "execution_count": 92,
   "metadata": {},
   "outputs": [
    {
     "data": {
      "text/plain": [
       "10"
      ]
     },
     "execution_count": 92,
     "metadata": {},
     "output_type": "execute_result"
    }
   ],
   "source": [
    "Out[2]                          # same as - print(Out[2]) "
   ]
  },
  {
   "cell_type": "code",
   "execution_count": 93,
   "metadata": {},
   "outputs": [
    {
     "data": {
      "text/plain": [
       "10"
      ]
     },
     "execution_count": 93,
     "metadata": {},
     "output_type": "execute_result"
    }
   ],
   "source": [
    "_2                              # same as - print(Out[2]) "
   ]
  },
  {
   "cell_type": "code",
   "execution_count": 95,
   "metadata": {},
   "outputs": [
    {
     "data": {
      "text/plain": [
       "0.4931505902785393"
      ]
     },
     "execution_count": 95,
     "metadata": {},
     "output_type": "execute_result"
    }
   ],
   "source": [
    " math.sin(2) + math.cos(2); # Note that the result is computed silently, and the output is neither displayed \n",
    "                            # on the screen or stored in the Out dictionary:"
   ]
  },
  {
   "cell_type": "code",
   "execution_count": 96,
   "metadata": {},
   "outputs": [
    {
     "data": {
      "text/plain": [
       "False"
      ]
     },
     "execution_count": 96,
     "metadata": {},
     "output_type": "execute_result"
    }
   ],
   "source": [
    "14 in Out            # False"
   ]
  },
  {
   "cell_type": "code",
   "execution_count": 97,
   "metadata": {},
   "outputs": [
    {
     "name": "stdout",
     "output_type": "stream",
     "text": [
      "   1:\n",
      "def donothing(x): \n",
      "    return x\n",
      "   2: donothing(10)\n",
      "   3:\n",
      "def donothing(x): \n",
      "    return x\n",
      "\n",
      "donothin(5)\n",
      "   4:\n",
      "def donothing(x): \n",
      "    return x\n",
      "\n",
      "donothing(5)\n"
     ]
    }
   ],
   "source": [
    "%history -n 1-4               # For accessing a batch of previous inputs at once"
   ]
  },
  {
   "cell_type": "code",
   "execution_count": 99,
   "metadata": {},
   "outputs": [
    {
     "name": "stdout",
     "output_type": "stream",
     "text": [
      "\"hello world\" \n"
     ]
    }
   ],
   "source": [
    "echo \"hello world\"   # Python SHELL COMMANDS"
   ]
  },
  {
   "cell_type": "code",
   "execution_count": 100,
   "metadata": {},
   "outputs": [
    {
     "data": {
      "text/plain": [
       "'C:\\\\Users\\\\Eshwar'"
      ]
     },
     "execution_count": 100,
     "metadata": {},
     "output_type": "execute_result"
    }
   ],
   "source": [
    "pwd                  # present working directory"
   ]
  },
  {
   "cell_type": "code",
   "execution_count": 101,
   "metadata": {},
   "outputs": [
    {
     "name": "stdout",
     "output_type": "stream",
     "text": [
      " Volume in drive C is OS\n",
      " Volume Serial Number is 104F-939A\n",
      "\n",
      " Directory of C:\\Users\\Eshwar\n",
      "\n",
      "05-06-2019  01:56 PM    <DIR>          .\n",
      "05-06-2019  01:56 PM    <DIR>          ..\n",
      "25-05-2019  02:21 PM    <DIR>          .anaconda\n",
      "05-06-2019  01:56 PM    <DIR>          .conda\n",
      "05-06-2019  01:06 PM                77 .condarc\n",
      "05-06-2019  01:08 PM    <DIR>          .ipynb_checkpoints\n",
      "25-05-2019  02:24 PM    <DIR>          .ipython\n",
      "25-05-2019  03:47 PM    <DIR>          .jupyter\n",
      "02-06-2019  04:05 PM    <DIR>          .keras\n",
      "25-05-2019  02:24 PM    <DIR>          .matplotlib\n",
      "01-06-2019  12:00 AM                25 .python_history\n",
      "02-06-2019  01:11 PM    <DIR>          .spyder-py3\n",
      "25-05-2019  05:45 PM    <DIR>          3D Objects\n",
      "25-05-2019  02:19 PM    <DIR>          Anaconda3\n",
      "28-05-2019  01:01 PM    <DIR>          ansel\n",
      "25-05-2019  05:45 PM    <DIR>          Contacts\n",
      "02-06-2019  10:12 AM    <DIR>          Desktop\n",
      "01-06-2019  12:07 AM    <DIR>          Documents\n",
      "05-06-2019  01:03 PM    <DIR>          Downloads\n",
      "25-05-2019  05:45 PM    <DIR>          Favorites\n",
      "26-05-2019  08:17 PM         2,043,232 JavaSetup8u211.exe\n",
      "25-05-2019  05:45 PM    <DIR>          Links\n",
      "25-05-2019  05:45 PM    <DIR>          Music\n",
      "01-06-2019  12:14 PM    <DIR>          OneDrive\n",
      "28-05-2019  01:06 PM    <DIR>          Pictures\n",
      "05-06-2019  01:56 PM            29,179 Python Tutorial1.ipynb\n",
      "21-08-2018  02:46 AM    <DIR>          Roaming\n",
      "25-05-2019  05:45 PM    <DIR>          Saved Games\n",
      "25-05-2019  05:45 PM    <DIR>          Searches\n",
      "25-05-2019  03:34 PM    <DIR>          Untitled Folder\n",
      "26-05-2019  09:11 AM    <DIR>          Videos\n",
      "26-05-2019  08:50 PM    <DIR>          winutils\n",
      "26-05-2019  08:47 PM         7,093,581 winutils.zip\n",
      "               5 File(s)      9,166,094 bytes\n",
      "              28 Dir(s)  58,048,708,608 bytes free\n"
     ]
    }
   ],
   "source": [
    "ls                    # ls = list working directory contents "
   ]
  },
  {
   "cell_type": "code",
   "execution_count": 102,
   "metadata": {},
   "outputs": [
    {
     "name": "stdout",
     "output_type": "stream",
     "text": [
      "[WinError 3] The system cannot find the path specified: 'projects/ # cd = change directory'\n",
      "C:\\Users\\Eshwar\n"
     ]
    }
   ],
   "source": [
    "cd projects/                    # cd = change directory"
   ]
  },
  {
   "cell_type": "code",
   "execution_count": 114,
   "metadata": {},
   "outputs": [],
   "source": [
    "contents = !ls"
   ]
  },
  {
   "cell_type": "code",
   "execution_count": 108,
   "metadata": {},
   "outputs": [
    {
     "name": "stdout",
     "output_type": "stream",
     "text": [
      "[\"'ls' is not recognized as an internal or external command,\", 'operable program or batch file.']\n"
     ]
    }
   ],
   "source": [
    "print(contents) "
   ]
  },
  {
   "cell_type": "code",
   "execution_count": 115,
   "metadata": {},
   "outputs": [
    {
     "name": "stdout",
     "output_type": "stream",
     "text": [
      "[\"'pwd' is not recognized as an internal or external command,\", 'operable program or batch file.']\n"
     ]
    }
   ],
   "source": [
    "directory = !pwd\n",
    "print(directory) "
   ]
  },
  {
   "cell_type": "code",
   "execution_count": 116,
   "metadata": {},
   "outputs": [
    {
     "name": "stdout",
     "output_type": "stream",
     "text": [
      "hello from Python \n"
     ]
    }
   ],
   "source": [
    "message = \"hello from Python\"              # Communication in the other directio\n",
    "!echo {message}"
   ]
  },
  {
   "cell_type": "code",
   "execution_count": 117,
   "metadata": {},
   "outputs": [
    {
     "name": "stdout",
     "output_type": "stream",
     "text": [
      "C:\\Users\n"
     ]
    }
   ],
   "source": [
    " %cd .."
   ]
  },
  {
   "cell_type": "code",
   "execution_count": 119,
   "metadata": {},
   "outputs": [
    {
     "name": "stdout",
     "output_type": "stream",
     "text": [
      "C:\\Users\\Eshwar\n"
     ]
    }
   ],
   "source": [
    "cd Eshwar   # page 37"
   ]
  },
  {
   "cell_type": "code",
   "execution_count": 128,
   "metadata": {},
   "outputs": [
    {
     "data": {
      "text/plain": [
       "2.0"
      ]
     },
     "execution_count": 128,
     "metadata": {},
     "output_type": "execute_result"
    }
   ],
   "source": [
    "def func1(a, b):           \n",
    "    return (a / b)\n",
    " \n",
    "def func2(x):           \n",
    "    a = x           \n",
    "    b = x - 1           \n",
    "    return func1(a, b)\n",
    "func2(2)"
   ]
  },
  {
   "cell_type": "code",
   "execution_count": 129,
   "metadata": {},
   "outputs": [
    {
     "name": "stdout",
     "output_type": "stream",
     "text": [
      "Exception reporting mode: Plain\n"
     ]
    }
   ],
   "source": [
    "%xmode Plain     # Exception reporting mode: Plain"
   ]
  },
  {
   "cell_type": "code",
   "execution_count": 130,
   "metadata": {},
   "outputs": [
    {
     "ename": "ZeroDivisionError",
     "evalue": "division by zero",
     "output_type": "error",
     "traceback": [
      "Traceback \u001b[1;36m(most recent call last)\u001b[0m:\n",
      "  File \u001b[0;32m\"<ipython-input-130-7cb498ea7ed1>\"\u001b[0m, line \u001b[0;32m1\u001b[0m, in \u001b[0;35m<module>\u001b[0m\n    func2(1)\n",
      "  File \u001b[0;32m\"<ipython-input-128-d759aca45084>\"\u001b[0m, line \u001b[0;32m7\u001b[0m, in \u001b[0;35mfunc2\u001b[0m\n    return func1(a, b)\n",
      "\u001b[1;36m  File \u001b[1;32m\"<ipython-input-128-d759aca45084>\"\u001b[1;36m, line \u001b[1;32m2\u001b[1;36m, in \u001b[1;35mfunc1\u001b[1;36m\u001b[0m\n\u001b[1;33m    return (a / b)\u001b[0m\n",
      "\u001b[1;31mZeroDivisionError\u001b[0m\u001b[1;31m:\u001b[0m division by zero\n"
     ]
    }
   ],
   "source": [
    "func2(1)"
   ]
  },
  {
   "cell_type": "code",
   "execution_count": 131,
   "metadata": {},
   "outputs": [
    {
     "name": "stdout",
     "output_type": "stream",
     "text": [
      "Exception reporting mode: Verbose\n"
     ]
    }
   ],
   "source": [
    " %xmode Verbose        "
   ]
  },
  {
   "cell_type": "code",
   "execution_count": 132,
   "metadata": {},
   "outputs": [
    {
     "name": "stdout",
     "output_type": "stream",
     "text": [
      "> \u001b[1;32m<ipython-input-128-d759aca45084>\u001b[0m(2)\u001b[0;36mfunc1\u001b[1;34m()\u001b[0m\n",
      "\u001b[1;32m      1 \u001b[1;33m\u001b[1;32mdef\u001b[0m \u001b[0mfunc1\u001b[0m\u001b[1;33m(\u001b[0m\u001b[0ma\u001b[0m\u001b[1;33m,\u001b[0m \u001b[0mb\u001b[0m\u001b[1;33m)\u001b[0m\u001b[1;33m:\u001b[0m\u001b[1;33m\u001b[0m\u001b[1;33m\u001b[0m\u001b[0m\n",
      "\u001b[0m\u001b[1;32m----> 2 \u001b[1;33m    \u001b[1;32mreturn\u001b[0m \u001b[1;33m(\u001b[0m\u001b[0ma\u001b[0m \u001b[1;33m/\u001b[0m \u001b[0mb\u001b[0m\u001b[1;33m)\u001b[0m\u001b[1;33m\u001b[0m\u001b[1;33m\u001b[0m\u001b[0m\n",
      "\u001b[0m\u001b[1;32m      3 \u001b[1;33m\u001b[1;33m\u001b[0m\u001b[0m\n",
      "\u001b[0m\u001b[1;32m      4 \u001b[1;33m\u001b[1;32mdef\u001b[0m \u001b[0mfunc2\u001b[0m\u001b[1;33m(\u001b[0m\u001b[0mx\u001b[0m\u001b[1;33m)\u001b[0m\u001b[1;33m:\u001b[0m\u001b[1;33m\u001b[0m\u001b[1;33m\u001b[0m\u001b[0m\n",
      "\u001b[0m\u001b[1;32m      5 \u001b[1;33m    \u001b[0ma\u001b[0m \u001b[1;33m=\u001b[0m \u001b[0mx\u001b[0m\u001b[1;33m\u001b[0m\u001b[1;33m\u001b[0m\u001b[0m\n",
      "\u001b[0m\n",
      "ipdb> 3\n",
      "3\n",
      "ipdb> 5\n",
      "5\n",
      "ipdb> 4\n",
      "4\n",
      "ipdb> quit\n"
     ]
    }
   ],
   "source": [
    "%debug"
   ]
  },
  {
   "cell_type": "code",
   "execution_count": 134,
   "metadata": {},
   "outputs": [
    {
     "name": "stdout",
     "output_type": "stream",
     "text": [
      "2.65 µs ± 3.87 ns per loop (mean ± std. dev. of 7 runs, 100000 loops each)\n"
     ]
    }
   ],
   "source": [
    "%timeit sum(range(100))   # %%timeit can be used to time the repeated execution of snippets of code:"
   ]
  },
  {
   "cell_type": "code",
   "execution_count": 135,
   "metadata": {},
   "outputs": [
    {
     "name": "stdout",
     "output_type": "stream",
     "text": [
      "977 ms ± 5.09 ms per loop (mean ± std. dev. of 7 runs, 1 loop each)\n"
     ]
    }
   ],
   "source": [
    " %%timeit        #  %timeit will automatically adjust and perform fewer repetitions:\n",
    "    total = 0       \n",
    "    for i in range(1000):           \n",
    "        for j in range(1000):               \n",
    "            total += i * (-1) ** j\n"
   ]
  },
  {
   "cell_type": "code",
   "execution_count": 136,
   "metadata": {},
   "outputs": [
    {
     "name": "stdout",
     "output_type": "stream",
     "text": [
      "1.14 ms ± 70.6 µs per loop (mean ± std. dev. of 7 runs, 1000 loops each)\n"
     ]
    }
   ],
   "source": [
    "import random       \n",
    "L = [random.random() for i in range(100000)]       \n",
    "%timeit L.sort()"
   ]
  },
  {
   "cell_type": "code",
   "execution_count": 137,
   "metadata": {},
   "outputs": [
    {
     "name": "stdout",
     "output_type": "stream",
     "text": [
      "sorting an unsorted list:\n",
      "Wall time: 21.8 ms\n"
     ]
    }
   ],
   "source": [
    "#  %time magic function may be a better choice. It also is a good choice for longer-running commands\n",
    "import random       \n",
    "L = [random.random() for i in range(100000)]       \n",
    "print(\"sorting an unsorted list:\")       \n",
    "%time L.sort()"
   ]
  },
  {
   "cell_type": "markdown",
   "metadata": {},
   "source": [
    "print(\"sorting an already sorted list:\")       \n",
    "%time L.sort()"
   ]
  },
  {
   "cell_type": "code",
   "execution_count": 139,
   "metadata": {},
   "outputs": [],
   "source": [
    "def sum_of_lists(N):           \n",
    "    total = 0           \n",
    "    for i in range(5):               \n",
    "        L = [j ^ (j >> i) for j in range(N)]               \n",
    "        total += sum(L)           \n",
    "        return total "
   ]
  },
  {
   "cell_type": "code",
   "execution_count": 140,
   "metadata": {},
   "outputs": [
    {
     "name": "stdout",
     "output_type": "stream",
     "text": [
      " "
     ]
    }
   ],
   "source": [
    "%prun sum_of_lists(1000000) "
   ]
  },
  {
   "cell_type": "markdown",
   "metadata": {},
   "source": [
    "    NumPy (short for Numerical Python) provides an efficient interface to store and operate on dense data buffers. \n",
    "    In some ways, NumPy arrays are like Python’s built-in list type, but NumPy arrays provide much more efficient storage\n",
    "    and data operations as the arrays grow larger in size. NumPy arrays form the core of nearly the entire ecosystem of \n",
    "    data science tools in Python, so time spent learning to use NumPy effectively will be valuable no matter what aspect \n",
    "    of data science interests you.\n"
   ]
  },
  {
   "cell_type": "code",
   "execution_count": 141,
   "metadata": {},
   "outputs": [
    {
     "data": {
      "text/plain": [
       "'1.16.2'"
      ]
     },
     "execution_count": 141,
     "metadata": {},
     "output_type": "execute_result"
    }
   ],
   "source": [
    "import numpy       \n",
    "numpy.__version__\n"
   ]
  },
  {
   "cell_type": "code",
   "execution_count": 142,
   "metadata": {},
   "outputs": [],
   "source": [
    " import numpy as np "
   ]
  },
  {
   "cell_type": "code",
   "execution_count": null,
   "metadata": {},
   "outputs": [],
   "source": [
    "np.                    # press <TAB> after the . to see the ist of commands"
   ]
  },
  {
   "cell_type": "code",
   "execution_count": 143,
   "metadata": {},
   "outputs": [],
   "source": [
    "np?                    #  NumPy’s built-in documentation, you can use this:"
   ]
  },
  {
   "cell_type": "code",
   "execution_count": 147,
   "metadata": {},
   "outputs": [
    {
     "name": "stdout",
     "output_type": "stream",
     "text": [
      "10\n"
     ]
    }
   ],
   "source": [
    "result = 0 \n",
    "for i in range(4):    #This will add the numbers from 1 till 3 (4-1=3)\n",
    "    result += i\n",
    "print(result)"
   ]
  },
  {
   "cell_type": "code",
   "execution_count": null,
   "metadata": {},
   "outputs": [],
   "source": [
    "A Python List Is More Than Just a List :\n",
    "    Let’s consider now what happens when we use a Python data structure that holds many Python objects. \n",
    "    The standard mutable multielement container in Python is the list. We can create a list of integers as follows:\n"
   ]
  },
  {
   "cell_type": "code",
   "execution_count": 149,
   "metadata": {},
   "outputs": [
    {
     "data": {
      "text/plain": [
       "[0, 1, 2, 3, 4, 5, 6, 7, 8, 9]"
      ]
     },
     "execution_count": 149,
     "metadata": {},
     "output_type": "execute_result"
    }
   ],
   "source": [
    "L = list(range(10))        # output is: [0, 1, 2, 3, 4, 5, 6, 7, 8, 9] \n",
    "L\n"
   ]
  },
  {
   "cell_type": "code",
   "execution_count": 150,
   "metadata": {},
   "outputs": [
    {
     "data": {
      "text/plain": [
       "int"
      ]
     },
     "execution_count": 150,
     "metadata": {},
     "output_type": "execute_result"
    }
   ],
   "source": [
    "type(L[0])    # int"
   ]
  },
  {
   "cell_type": "code",
   "execution_count": 151,
   "metadata": {},
   "outputs": [
    {
     "data": {
      "text/plain": [
       "['0', '1', '2', '3', '4', '5', '6', '7', '8', '9']"
      ]
     },
     "execution_count": 151,
     "metadata": {},
     "output_type": "execute_result"
    }
   ],
   "source": [
    "L2 = [str(c) for c in L]          # ['0', '1', '2', '3', '4', '5', '6', '7', '8', '9']\n",
    "L2 "
   ]
  },
  {
   "cell_type": "code",
   "execution_count": 152,
   "metadata": {},
   "outputs": [
    {
     "data": {
      "text/plain": [
       "str"
      ]
     },
     "execution_count": 152,
     "metadata": {},
     "output_type": "execute_result"
    }
   ],
   "source": [
    " type(L2[0])    # str"
   ]
  },
  {
   "cell_type": "code",
   "execution_count": 154,
   "metadata": {},
   "outputs": [
    {
     "data": {
      "text/plain": [
       "[bool, str, float, int]"
      ]
     },
     "execution_count": 154,
     "metadata": {},
     "output_type": "execute_result"
    }
   ],
   "source": [
    "#  we can even create heterogeneous lists:\n",
    "L3 = [True, \"2\", 3.0, 4]      \n",
    "[type(item) for item in L3]\n"
   ]
  },
  {
   "cell_type": "code",
   "execution_count": 155,
   "metadata": {},
   "outputs": [
    {
     "data": {
      "text/plain": [
       "array('i', [0, 1, 2, 3, 4, 5, 6, 7, 8, 9])"
      ]
     },
     "execution_count": 155,
     "metadata": {},
     "output_type": "execute_result"
    }
   ],
   "source": [
    "# Fixed-Type Arrays in Python \n",
    "\n",
    "import array                   # array('i', [0, 1, 2, 3, 4, 5, 6, 7, 8, 9])\n",
    "L = list(range(10))       \n",
    "A = array.array('i', L)       \n",
    "A                              # Here 'i' is a type code indicating the contents are integers. "
   ]
  },
  {
   "cell_type": "code",
   "execution_count": 156,
   "metadata": {},
   "outputs": [
    {
     "data": {
      "text/plain": [
       "array([1, 4, 2, 5, 3])"
      ]
     },
     "execution_count": 156,
     "metadata": {},
     "output_type": "execute_result"
    }
   ],
   "source": [
    "import numpy as np\n",
    "np.array([1, 4, 2, 5, 3])    # array([1, 4, 2, 5, 3])"
   ]
  },
  {
   "cell_type": "code",
   "execution_count": 157,
   "metadata": {},
   "outputs": [
    {
     "data": {
      "text/plain": [
       "array([3.14, 4.  , 2.  , 3.  ])"
      ]
     },
     "execution_count": 157,
     "metadata": {},
     "output_type": "execute_result"
    }
   ],
   "source": [
    "np.array([3.14, 4, 2, 3])    # array([3.14, 4.  , 2.  , 3.  ])"
   ]
  },
  {
   "cell_type": "code",
   "execution_count": 158,
   "metadata": {},
   "outputs": [
    {
     "data": {
      "text/plain": [
       "array([1., 2., 3., 4.], dtype=float32)"
      ]
     },
     "execution_count": 158,
     "metadata": {},
     "output_type": "execute_result"
    }
   ],
   "source": [
    "np.array([1, 2, 3, 4], \n",
    "dtype='float32')                       # array([1., 2., 3., 4.], dtype=float32)\n",
    "\n",
    "# If we want to explicitly set the data type of the resulting array, we can use the dtype keyword:"
   ]
  },
  {
   "cell_type": "code",
   "execution_count": 159,
   "metadata": {},
   "outputs": [
    {
     "data": {
      "text/plain": [
       "array([[2, 3, 4],\n",
       "       [4, 5, 6],\n",
       "       [6, 7, 8]])"
      ]
     },
     "execution_count": 159,
     "metadata": {},
     "output_type": "execute_result"
    }
   ],
   "source": [
    " # nested lists result in multidimensional arrays        \n",
    "np.array([range(i, i + 3) for i in [2, 4, 6]])\n",
    "#array([[2, 3, 4],\n",
    "#       [4, 5, 6],\n",
    "#       [6, 7, 8]])"
   ]
  },
  {
   "cell_type": "markdown",
   "metadata": {},
   "source": [
    "Creating Arrays from Scratch Especially for larger arrays, it is more efficient to create arrays from scratch using \n",
    "routines built into NumPy. Here are several examples:\n"
   ]
  },
  {
   "cell_type": "code",
   "execution_count": 160,
   "metadata": {},
   "outputs": [
    {
     "data": {
      "text/plain": [
       "array([0, 0, 0, 0, 0, 0, 0, 0, 0, 0])"
      ]
     },
     "execution_count": 160,
     "metadata": {},
     "output_type": "execute_result"
    }
   ],
   "source": [
    "# Create a length-10 integer array filled with zeros        \n",
    "np.zeros(10, dtype=int)"
   ]
  },
  {
   "cell_type": "code",
   "execution_count": null,
   "metadata": {},
   "outputs": [],
   "source": []
  }
 ],
 "metadata": {
  "kernelspec": {
   "display_name": "Python 3",
   "language": "python",
   "name": "python3"
  },
  "language_info": {
   "codemirror_mode": {
    "name": "ipython",
    "version": 3
   },
   "file_extension": ".py",
   "mimetype": "text/x-python",
   "name": "python",
   "nbconvert_exporter": "python",
   "pygments_lexer": "ipython3",
   "version": "3.7.3"
  }
 },
 "nbformat": 4,
 "nbformat_minor": 2
}
