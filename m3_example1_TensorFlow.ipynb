{
 "cells": [
  {
   "cell_type": "code",
   "execution_count": null,
   "metadata": {},
   "outputs": [],
   "source": [
    "import tensorflow as tf\n",
    "\n",
    "x = tf.placeholder(tf.int32, shape=[3], name='x')\n",
    "y = tf.placeholder(tf.int32, shape=[3], name='y')\n",
    "\n",
    "sum_x = tf.reduce_sum(x, name=\"sum_x\")\n",
    "prod_y = tf.reduce_prod(y, name=\"prod_y\")\n",
    "\n",
    "final_div = tf.div(sum_x, prod_y, name=\"final_div\")\n",
    "\n",
    "final_mean = tf.reduce_mean([sum_x, prod_y], name=\"final_mean\")\n",
    "\n",
    "sess = tf.Session()\n",
    "\n",
    "print (\"sum(x): \", sess.run(sum_x, feed_dict={x: [100, 200, 300]}))\n",
    "print (\"prod(y): \", sess.run(prod_y, feed_dict={y: [1, 2, 3]}))\n",
    "\n",
    "# This needs both x and y placeholder values for its calculation\n",
    "print (\"sum(x) / prod(y):\", sess.run(final_div, feed_dict={x: [10, 20, 30], y: [1, 2, 3]}))\n",
    "\n",
    "print (\"mean(sum(x), prod(y)):\", sess.run(final_mean, feed_dict={x: [1000, 2000, 3000], y: [10, 20, 30]}))\n",
    "\n",
    "\n",
    "writer = tf.summary.FileWriter('./graphs/m3_example1', sess.graph)\n",
    "\n",
    "writer.close()\n",
    "sess.close()\n"
   ]
  }
 ],
 "metadata": {
  "kernelspec": {
   "display_name": "Python 3",
   "language": "python",
   "name": "python3"
  },
  "language_info": {
   "codemirror_mode": {
    "name": "ipython",
    "version": 3
   },
   "file_extension": ".py",
   "mimetype": "text/x-python",
   "name": "python",
   "nbconvert_exporter": "python",
   "pygments_lexer": "ipython3",
   "version": "3.7.3"
  }
 },
 "nbformat": 4,
 "nbformat_minor": 2
}
