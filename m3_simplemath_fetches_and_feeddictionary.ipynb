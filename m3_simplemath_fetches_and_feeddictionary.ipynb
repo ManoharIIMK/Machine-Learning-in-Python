{
 "cells": [
  {
   "cell_type": "code",
   "execution_count": null,
   "metadata": {},
   "outputs": [],
   "source": [
    "# Note: To run Tensorboard, open Anaconda prompt always and run below commands. Dont close Anaconda prompt till end\n",
    "\n",
    "#tensorboard --logdir <path> --port 6006\n",
    "#hen, navigate to (in this example) http://localhost:16006 on your local machine.\n",
    "\n",
    "#tensorboard --logdir path/to/logs\n",
    "# m3_simplemath_fetches_and_feeddictionary\n",
    "# E:\\IIM\\TensorFlow\\PluralSight\\***\\02-introducing-tensorflow\n",
    "\n",
    "import tensorflow as tf\n",
    "\n",
    "# y = Wx + b\n",
    "W = tf.constant([10, 100], name='const_W')\n",
    "\n",
    "# Note that these placeholders can hold tensors of any shape\n",
    "x = tf.placeholder(tf.int32, name='x')\n",
    "b = tf.placeholder(tf.int32, name='b')\n",
    "\n",
    "Wx = tf.multiply(W, x, name=\"Wx\")\n",
    "\n",
    "y = tf.add(Wx, b, name=\"y\")\n",
    "\n",
    "# y_ = x - b\n",
    "y_ = tf.subtract(x, b, name=\"y_\")\n",
    "\n",
    "\n",
    "with tf.Session() as sess:\n",
    "        print (\"Intermediate result: Wx = \", sess.run(Wx, feed_dict={x: [3, 33]}))\n",
    "\n",
    "        print (\"Final result: Wx + b = \", sess.run(y, feed_dict={x: [5, 50], b: [7, 9]}))\n",
    "\n",
    "        print (\"Intermediate specified: Wx + b = \", \\\n",
    "            sess.run(fetches=y, feed_dict={Wx: [100, 1000], b: [7, 9]}))\n",
    "\n",
    "        print (\"Two results: [Wx + b, x - b] = \", \\\n",
    "            sess.run(fetches=[y, y_], feed_dict={x: [5, 50], b: [7, 9]}))\n",
    "\n",
    "\n",
    "writer = tf.summary.FileWriter('./graphs/m3_example2', sess.graph)\n",
    "writer.close()"
   ]
  }
 ],
 "metadata": {
  "kernelspec": {
   "display_name": "Python 3",
   "language": "python",
   "name": "python3"
  },
  "language_info": {
   "codemirror_mode": {
    "name": "ipython",
    "version": 3
   },
   "file_extension": ".py",
   "mimetype": "text/x-python",
   "name": "python",
   "nbconvert_exporter": "python",
   "pygments_lexer": "ipython3",
   "version": "3.7.3"
  }
 },
 "nbformat": 4,
 "nbformat_minor": 2
}
