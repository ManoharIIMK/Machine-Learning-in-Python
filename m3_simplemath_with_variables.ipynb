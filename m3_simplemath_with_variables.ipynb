{
 "cells": [
  {
   "cell_type": "code",
   "execution_count": 1,
   "metadata": {},
   "outputs": [
    {
     "name": "stdout",
     "output_type": "stream",
     "text": [
      "Final result: Wx + b =  [ 30. 410.]\n",
      "Result: Wx =  [ 25. 400.]\n",
      "Result number * multiplier =  2\n",
      "Increment multiplier, new value =  2\n",
      "Result number * multiplier =  4\n",
      "Increment multiplier, new value =  3\n",
      "Result number * multiplier =  12\n",
      "Increment multiplier, new value =  4\n",
      "Result number * multiplier =  48\n",
      "Increment multiplier, new value =  5\n",
      "Result number * multiplier =  240\n",
      "Increment multiplier, new value =  6\n",
      "Result number * multiplier =  1440\n",
      "Increment multiplier, new value =  7\n",
      "Result number * multiplier =  10080\n",
      "Increment multiplier, new value =  8\n",
      "Result number * multiplier =  80640\n",
      "Increment multiplier, new value =  9\n",
      "Result number * multiplier =  725760\n",
      "Increment multiplier, new value =  10\n",
      "Result number * multiplier =  7257600\n",
      "Increment multiplier, new value =  11\n"
     ]
    }
   ],
   "source": [
    "# tensorboard --logdir C:/Users/Eshwar/graphs    - run this command in Anaconda prompt and open the Anaconda\n",
    "# Above command to set the working directory of Graphs to show in the TensorBoard\n",
    "# Open tensorboard on http://Localhost:6006/\n",
    "# m3_simplemath_with_variables\n",
    "import tensorflow as tf\n",
    "\n",
    "# y = Wx + b\n",
    "W = tf.Variable([2.5, 4.0], tf.float32, name='var_W')\n",
    "\n",
    "x = tf.placeholder(tf.float32, name='x')\n",
    "b = tf.Variable([5.0, 10.0], tf.float32, name='var_b')\n",
    "\n",
    "y = W * x + b\n",
    "\n",
    "# Initialize all variables defined\n",
    "init = tf.global_variables_initializer()\n",
    "\n",
    "with tf.Session() as sess:\n",
    "    sess.run(init)\n",
    "\n",
    "    print (\"Final result: Wx + b = \", sess.run(y, feed_dict={x: [10, 100]}))\n",
    "\n",
    "# s = Wx\n",
    "s = W * x\n",
    "\n",
    "# Initialize only those variables that you might need\n",
    "init = tf.variables_initializer([W])\n",
    "\n",
    "with tf.Session() as sess:\n",
    "    sess.run(init)\n",
    "\n",
    "    #print \"Will this work?: Wx + b = \", sess.run(y, feed_dict={x: [10, 100]})\n",
    "    print (\"Result: Wx = \", sess.run(s, feed_dict={x: [10, 100]}))\n",
    "\n",
    "number = tf.Variable(2)\n",
    "multiplier = tf.Variable(1)\n",
    "\n",
    "init = tf.global_variables_initializer()\n",
    "\n",
    "result = number.assign(tf.multiply(number, multiplier))\n",
    "\n",
    "with tf.Session() as sess:\n",
    "    sess.run(init)\n",
    "\n",
    "    for i in range(10):\n",
    "        print (\"Result number * multiplier = \", sess.run(result))\n",
    "        print (\"Increment multiplier, new value = \", sess.run(multiplier.assign_add(1)))"
   ]
  },
  {
   "cell_type": "raw",
   "metadata": {},
   "source": [
    "  - Output is as below:\n",
    "  \n",
    "Final result: Wx + b =  [ 30. 410.]\n",
    "Result: Wx =  [ 25. 400.]\n",
    "Result number * multiplier =  2\n",
    "Increment multiplier, new value =  2\n",
    "Result number * multiplier =  4\n",
    "Increment multiplier, new value =  3\n",
    "Result number * multiplier =  12\n",
    "Increment multiplier, new value =  4\n",
    "Result number * multiplier =  48\n",
    "Increment multiplier, new value =  5\n",
    "Result number * multiplier =  240\n",
    "Increment multiplier, new value =  6\n",
    "Result number * multiplier =  1440\n",
    "Increment multiplier, new value =  7\n",
    "Result number * multiplier =  10080\n",
    "Increment multiplier, new value =  8\n",
    "Result number * multiplier =  80640\n",
    "Increment multiplier, new value =  9\n",
    "Result number * multiplier =  725760\n",
    "Increment multiplier, new value =  10\n",
    "Result number * multiplier =  7257600\n",
    "Increment multiplier, new value =  11"
   ]
  },
  {
   "cell_type": "code",
   "execution_count": null,
   "metadata": {},
   "outputs": [],
   "source": []
  }
 ],
 "metadata": {
  "kernelspec": {
   "display_name": "Python 3",
   "language": "python",
   "name": "python3"
  },
  "language_info": {
   "codemirror_mode": {
    "name": "ipython",
    "version": 3
   },
   "file_extension": ".py",
   "mimetype": "text/x-python",
   "name": "python",
   "nbconvert_exporter": "python",
   "pygments_lexer": "ipython3",
   "version": "3.7.3"
  }
 },
 "nbformat": 4,
 "nbformat_minor": 2
}
